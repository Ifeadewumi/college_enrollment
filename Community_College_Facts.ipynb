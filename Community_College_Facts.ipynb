{
 "cells": [
  {
   "cell_type": "markdown",
   "metadata": {},
   "source": [
    "# Load Required Libraries"
   ]
  },
  {
   "cell_type": "code",
   "execution_count": 1,
   "metadata": {},
   "outputs": [],
   "source": [
    "import pandas as pd\n",
    "import numpy as np\n",
    "\n",
    "import matplotlib.pyplot as plt"
   ]
  },
  {
   "cell_type": "markdown",
   "metadata": {},
   "source": [
    "# Read Data"
   ]
  },
  {
   "cell_type": "code",
   "execution_count": 2,
   "metadata": {},
   "outputs": [],
   "source": [
    "# Read data from 2016-2017 school year\n",
    "college_data_df = pd.read_csv('data/MERGED2016_17_PP.csv', dtype=str)\n",
    "college_data_df[college_data_df=='PrivacySuppressed'] = np.nan\n",
    "\n",
    "# Create separate dataframe for community colleges\n",
    "community_college_data_df = college_data_df[\n",
    "    (college_data_df['CONTROL']=='1') & \n",
    "    (college_data_df['PREDDEG'] != '3') & \n",
    "    (college_data_df['PREDDEG'] != '4')\n",
    "]"
   ]
  },
  {
   "cell_type": "markdown",
   "metadata": {},
   "source": [
    "# Explore Data"
   ]
  },
  {
   "cell_type": "markdown",
   "metadata": {},
   "source": [
    "### How many colleges were there?"
   ]
  },
  {
   "cell_type": "code",
   "execution_count": 3,
   "metadata": {},
   "outputs": [
    {
     "name": "stdout",
     "output_type": "stream",
     "text": [
      "Total colleges:  7175\n",
      "Total community colleges:  1451\n",
      "Percentage of colleges that are community-based: 20.222996515679444\n"
     ]
    }
   ],
   "source": [
    "# Calculate total number of colleges and community colleges\n",
    "all_colleges = len(college_data_df)\n",
    "community_colleges = len(community_college_data_df)\n",
    "\n",
    "# Calculate percentage of colleges that are community-based\n",
    "print('Total colleges: ', all_colleges)\n",
    "print('Total community colleges: ', community_colleges)\n",
    "print('Percentage of colleges that are community-based:', 100*community_colleges/all_colleges)"
   ]
  },
  {
   "cell_type": "markdown",
   "metadata": {},
   "source": [
    "### How many students were enrolled in college?"
   ]
  },
  {
   "cell_type": "code",
   "execution_count": 4,
   "metadata": {},
   "outputs": [
    {
     "name": "stdout",
     "output_type": "stream",
     "text": [
      "Total college  students:  15627822.0\n",
      "Total community college students:  5708140.0\n",
      "Percentage of college students in community colleges: 36.525499202640006\n"
     ]
    }
   ],
   "source": [
    "# Calculate total number of students in colleges and community colleges\n",
    "all_college_students = college_data_df['UGDS'].astype(float).sum()\n",
    "community_college_students = community_college_data_df['UGDS'].astype(float).sum()\n",
    "\n",
    "# Calculate percentage of college students enrolled in community colleges\n",
    "print('Total college  students: ', all_college_students)\n",
    "print('Total community college students: ', community_college_students)\n",
    "print('Percentage of college students in community colleges:', 100*community_college_students/all_college_students)"
   ]
  },
  {
   "cell_type": "markdown",
   "metadata": {},
   "source": [
    "### How long does it take for students to repay loans?"
   ]
  },
  {
   "cell_type": "code",
   "execution_count": 5,
   "metadata": {},
   "outputs": [
    {
     "data": {
      "image/png": "[encoded data removed]",
      "text/plain": [
       "<Figure size 432x288 with 1 Axes>"
      ]
     },
     "metadata": {},
     "output_type": "display_data"
    }
   ],
   "source": [
    "# Calculate repayment rates of colleges\n",
    "other_college_3year_repayment = college_data_df.loc[\n",
    "    college_data_df['OPEID'].apply(lambda x: x not in community_college_data_df['OPEID'].values),\n",
    "    'COMPL_RPY_3YR_RT'].astype(float).mean()\n",
    "community_college_3year_repayment = community_college_data_df['COMPL_RPY_3YR_RT'].astype(float).mean()\n",
    "other_college_5year_repayment = college_data_df.loc[\n",
    "    college_data_df['OPEID'].apply(lambda x: x not in community_college_data_df['OPEID'].values),\n",
    "    'COMPL_RPY_5YR_RT'].astype(float).mean()\n",
    "community_college_5year_repayment = community_college_data_df['COMPL_RPY_5YR_RT'].astype(float).mean()\n",
    "other_college_7year_repayment = college_data_df.loc[\n",
    "    college_data_df['OPEID'].apply(lambda x: x not in community_college_data_df['OPEID'].values),\n",
    "    'COMPL_RPY_7YR_RT'].astype(float).mean()\n",
    "community_college_7year_repayment = community_college_data_df['COMPL_RPY_7YR_RT'].astype(float).mean()\n",
    "\n",
    "college_repayment_df = pd.DataFrame({\n",
    "    'timeframe': ['3-year', '5-year', '7-year'],\n",
    "    'other_college_repayment': [\n",
    "        other_college_3year_repayment, \n",
    "        other_college_5year_repayment, \n",
    "        other_college_7year_repayment\n",
    "    ],\n",
    "    'community_college_repayment': [\n",
    "        community_college_3year_repayment, \n",
    "        community_college_5year_repayment, \n",
    "        community_college_7year_repayment\n",
    "    ]\n",
    "})\n",
    "\n",
    "college_repayment_df.plot(\n",
    "    kind='bar', \n",
    "    x='timeframe', \n",
    "    y=['other_college_repayment', 'community_college_repayment'], \n",
    "    rot=0)\n",
    "plt.legend(['Other Colleges', 'Community Colleges'], loc='lower center')\n",
    "plt.ylabel('Fraction of Students Who Have Repayed Loans')\n",
    "plt.show()"
   ]
  },
  {
   "cell_type": "code",
   "execution_count": 6,
   "metadata": {},
   "outputs": [
    {
     "data": {
      "text/html": [
       "<div>\n",
       "<style scoped>\n",
       "    .dataframe tbody tr th:only-of-type {\n",
       "        vertical-align: middle;\n",
       "    }\n",
       "\n",
       "    .dataframe tbody tr th {\n",
       "        vertical-align: top;\n",
       "    }\n",
       "\n",
       "    .dataframe thead th {\n",
       "        text-align: right;\n",
       "    }\n",
       "</style>\n",
       "<table border=\"1\" class=\"dataframe\">\n",
       "  <thead>\n",
       "    <tr style=\"text-align: right;\">\n",
       "      <th></th>\n",
       "      <th>timeframe</th>\n",
       "      <th>other_college_repayment</th>\n",
       "      <th>community_college_repayment</th>\n",
       "    </tr>\n",
       "  </thead>\n",
       "  <tbody>\n",
       "    <tr>\n",
       "      <th>0</th>\n",
       "      <td>3-year</td>\n",
       "      <td>0.551726</td>\n",
       "      <td>0.576612</td>\n",
       "    </tr>\n",
       "    <tr>\n",
       "      <th>1</th>\n",
       "      <td>5-year</td>\n",
       "      <td>0.590572</td>\n",
       "      <td>0.644465</td>\n",
       "    </tr>\n",
       "    <tr>\n",
       "      <th>2</th>\n",
       "      <td>7-year</td>\n",
       "      <td>0.634108</td>\n",
       "      <td>0.695360</td>\n",
       "    </tr>\n",
       "  </tbody>\n",
       "</table>\n",
       "</div>"
      ],
      "text/plain": [
       "  timeframe  other_college_repayment  community_college_repayment\n",
       "0    3-year                 0.551726                     0.576612\n",
       "1    5-year                 0.590572                     0.644465\n",
       "2    7-year                 0.634108                     0.695360"
      ]
     },
     "execution_count": 6,
     "metadata": {},
     "output_type": "execute_result"
    }
   ],
   "source": [
    "college_repayment_df"
   ]
  },
  {
   "cell_type": "code",
   "execution_count": null,
   "metadata": {},
   "outputs": [],
   "source": []
  }
 ],
 "metadata": {
  "kernelspec": {
   "display_name": "Python 3",
   "language": "python",
   "name": "python3"
  },
  "language_info": {
   "codemirror_mode": {
    "name": "ipython",
    "version": 3
   },
   "file_extension": ".py",
   "mimetype": "text/x-python",
   "name": "python",
   "nbconvert_exporter": "python",
   "pygments_lexer": "ipython3",
   "version": "3.6.5"
  }
 },
 "nbformat": 4,
 "nbformat_minor": 2
}
